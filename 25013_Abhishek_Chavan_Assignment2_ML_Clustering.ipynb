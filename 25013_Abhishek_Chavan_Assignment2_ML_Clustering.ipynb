{
 "cells": [
  {
   "cell_type": "markdown",
   "id": "5a98c4de-2e33-4ce6-8670-393ff128bb80",
   "metadata": {},
   "source": [
    "## Name - Abhishek Raju Chavan\n",
    "## Roll no - 210950125013"
   ]
  },
  {
   "cell_type": "markdown",
   "id": "735ed37a-982a-454b-93c0-5e0a6e77ddb1",
   "metadata": {},
   "source": [
    "### Q1. A dataset containing the medical records of 299 heart failure patients is provided. The patients consisted of 105 women and 194 men, and their ages range between 40 and 95 years old. All 299 patients had left ventricular systolic dysfunction and had previous heart failures. The dataset contains 13 features, which report clinical, body, and lifestyle information.\n",
    "\n",
    "- a) Describe the statistical details (such as mean, median, standard deviation, frequency of\n",
    "     each category in the case of categorical variables etc.) through appropriate visualization.\n",
    "- b) Perform the curation of the data, if required. (For example, filling the missing values).\n",
    "- c) Perform normalization using appropriate method.\n",
    "- d) Find out the optimal K-Value using any method and visualize the elbow curve.\n",
    "- e) Visualize the clusters and save the cluster ID of every patient to a csv fille.\n",
    "- f) Write your analysis of the results. For example, what are the common\n",
    "     symptoms/disorders of all the patients in a cluster.\n",
    "- Note: Last column DEATH_EVENT can be removed, it is target variable."
   ]
  },
  {
   "cell_type": "code",
   "execution_count": 1,
   "id": "33389643-0bd5-41bb-aade-99ae920c7438",
   "metadata": {},
   "outputs": [],
   "source": [
    "import pandas as pd\n",
    "import seaborn as sns\n",
    "import matplotlib.pyplot as plt\n",
    "import numpy as np\n",
    "\n",
    "df = pd.read_csv(\"heart_failure_clinical_records_dataset.csv\", delimiter=\",\")"
   ]
  },
  {
   "cell_type": "code",
   "execution_count": 2,
   "id": "d1febd34-9c8d-408d-8a9c-72d4d98be45c",
   "metadata": {},
   "outputs": [
    {
     "data": {
      "text/plain": [
       "(299, 13)"
      ]
     },
     "execution_count": 2,
     "metadata": {},
     "output_type": "execute_result"
    }
   ],
   "source": [
    "df.shape"
   ]
  },
  {
   "cell_type": "code",
   "execution_count": 3,
   "id": "fa32726d-d6de-4b78-a548-95e03d1c77a7",
   "metadata": {},
   "outputs": [
    {
     "data": {
      "text/html": [
       "<div>\n",
       "<style scoped>\n",
       "    .dataframe tbody tr th:only-of-type {\n",
       "        vertical-align: middle;\n",
       "    }\n",
       "\n",
       "    .dataframe tbody tr th {\n",
       "        vertical-align: top;\n",
       "    }\n",
       "\n",
       "    .dataframe thead th {\n",
       "        text-align: right;\n",
       "    }\n",
       "</style>\n",
       "<table border=\"1\" class=\"dataframe\">\n",
       "  <thead>\n",
       "    <tr style=\"text-align: right;\">\n",
       "      <th></th>\n",
       "      <th>age</th>\n",
       "      <th>anaemia</th>\n",
       "      <th>creatinine_phosphokinase</th>\n",
       "      <th>diabetes</th>\n",
       "      <th>ejection_fraction</th>\n",
       "      <th>high_blood_pressure</th>\n",
       "      <th>platelets</th>\n",
       "      <th>serum_creatinine</th>\n",
       "      <th>serum_sodium</th>\n",
       "      <th>sex</th>\n",
       "      <th>smoking</th>\n",
       "      <th>time</th>\n",
       "      <th>DEATH_EVENT</th>\n",
       "    </tr>\n",
       "  </thead>\n",
       "  <tbody>\n",
       "    <tr>\n",
       "      <th>0</th>\n",
       "      <td>75.0</td>\n",
       "      <td>0</td>\n",
       "      <td>582</td>\n",
       "      <td>0</td>\n",
       "      <td>20</td>\n",
       "      <td>1</td>\n",
       "      <td>265000.00</td>\n",
       "      <td>1.9</td>\n",
       "      <td>130</td>\n",
       "      <td>1</td>\n",
       "      <td>0</td>\n",
       "      <td>4</td>\n",
       "      <td>1</td>\n",
       "    </tr>\n",
       "    <tr>\n",
       "      <th>1</th>\n",
       "      <td>55.0</td>\n",
       "      <td>0</td>\n",
       "      <td>7861</td>\n",
       "      <td>0</td>\n",
       "      <td>38</td>\n",
       "      <td>0</td>\n",
       "      <td>263358.03</td>\n",
       "      <td>1.1</td>\n",
       "      <td>136</td>\n",
       "      <td>1</td>\n",
       "      <td>0</td>\n",
       "      <td>6</td>\n",
       "      <td>1</td>\n",
       "    </tr>\n",
       "    <tr>\n",
       "      <th>2</th>\n",
       "      <td>65.0</td>\n",
       "      <td>0</td>\n",
       "      <td>146</td>\n",
       "      <td>0</td>\n",
       "      <td>20</td>\n",
       "      <td>0</td>\n",
       "      <td>162000.00</td>\n",
       "      <td>1.3</td>\n",
       "      <td>129</td>\n",
       "      <td>1</td>\n",
       "      <td>1</td>\n",
       "      <td>7</td>\n",
       "      <td>1</td>\n",
       "    </tr>\n",
       "    <tr>\n",
       "      <th>3</th>\n",
       "      <td>50.0</td>\n",
       "      <td>1</td>\n",
       "      <td>111</td>\n",
       "      <td>0</td>\n",
       "      <td>20</td>\n",
       "      <td>0</td>\n",
       "      <td>210000.00</td>\n",
       "      <td>1.9</td>\n",
       "      <td>137</td>\n",
       "      <td>1</td>\n",
       "      <td>0</td>\n",
       "      <td>7</td>\n",
       "      <td>1</td>\n",
       "    </tr>\n",
       "    <tr>\n",
       "      <th>4</th>\n",
       "      <td>65.0</td>\n",
       "      <td>1</td>\n",
       "      <td>160</td>\n",
       "      <td>1</td>\n",
       "      <td>20</td>\n",
       "      <td>0</td>\n",
       "      <td>327000.00</td>\n",
       "      <td>2.7</td>\n",
       "      <td>116</td>\n",
       "      <td>0</td>\n",
       "      <td>0</td>\n",
       "      <td>8</td>\n",
       "      <td>1</td>\n",
       "    </tr>\n",
       "  </tbody>\n",
       "</table>\n",
       "</div>"
      ],
      "text/plain": [
       "    age  anaemia  creatinine_phosphokinase  diabetes  ejection_fraction  \\\n",
       "0  75.0        0                       582         0                 20   \n",
       "1  55.0        0                      7861         0                 38   \n",
       "2  65.0        0                       146         0                 20   \n",
       "3  50.0        1                       111         0                 20   \n",
       "4  65.0        1                       160         1                 20   \n",
       "\n",
       "   high_blood_pressure  platelets  serum_creatinine  serum_sodium  sex  \\\n",
       "0                    1  265000.00               1.9           130    1   \n",
       "1                    0  263358.03               1.1           136    1   \n",
       "2                    0  162000.00               1.3           129    1   \n",
       "3                    0  210000.00               1.9           137    1   \n",
       "4                    0  327000.00               2.7           116    0   \n",
       "\n",
       "   smoking  time  DEATH_EVENT  \n",
       "0        0     4            1  \n",
       "1        0     6            1  \n",
       "2        1     7            1  \n",
       "3        0     7            1  \n",
       "4        0     8            1  "
      ]
     },
     "execution_count": 3,
     "metadata": {},
     "output_type": "execute_result"
    }
   ],
   "source": [
    "df.head()"
   ]
  },
  {
   "cell_type": "markdown",
   "id": "dca5af1f-8079-4a49-a152-cb2bd2e6aa48",
   "metadata": {},
   "source": [
    "- **Q1-a) Describe the statistical details (such as mean, median, standard deviation, frequency of each category in the case of categorical variables etc.) through appropriate visualization.**"
   ]
  },
  {
   "cell_type": "code",
   "execution_count": 4,
   "id": "5fe261db-0fce-4a36-a271-7ed7d4f55ab2",
   "metadata": {},
   "outputs": [
    {
     "data": {
      "text/html": [
       "<div>\n",
       "<style scoped>\n",
       "    .dataframe tbody tr th:only-of-type {\n",
       "        vertical-align: middle;\n",
       "    }\n",
       "\n",
       "    .dataframe tbody tr th {\n",
       "        vertical-align: top;\n",
       "    }\n",
       "\n",
       "    .dataframe thead th {\n",
       "        text-align: right;\n",
       "    }\n",
       "</style>\n",
       "<table border=\"1\" class=\"dataframe\">\n",
       "  <thead>\n",
       "    <tr style=\"text-align: right;\">\n",
       "      <th></th>\n",
       "      <th>age</th>\n",
       "      <th>anaemia</th>\n",
       "      <th>creatinine_phosphokinase</th>\n",
       "      <th>diabetes</th>\n",
       "      <th>ejection_fraction</th>\n",
       "      <th>high_blood_pressure</th>\n",
       "      <th>platelets</th>\n",
       "      <th>serum_creatinine</th>\n",
       "      <th>serum_sodium</th>\n",
       "      <th>sex</th>\n",
       "      <th>smoking</th>\n",
       "      <th>time</th>\n",
       "      <th>DEATH_EVENT</th>\n",
       "    </tr>\n",
       "  </thead>\n",
       "  <tbody>\n",
       "    <tr>\n",
       "      <th>count</th>\n",
       "      <td>299.000000</td>\n",
       "      <td>299.000000</td>\n",
       "      <td>299.000000</td>\n",
       "      <td>299.000000</td>\n",
       "      <td>299.000000</td>\n",
       "      <td>299.000000</td>\n",
       "      <td>299.000000</td>\n",
       "      <td>299.00000</td>\n",
       "      <td>299.000000</td>\n",
       "      <td>299.000000</td>\n",
       "      <td>299.00000</td>\n",
       "      <td>299.000000</td>\n",
       "      <td>299.00000</td>\n",
       "    </tr>\n",
       "    <tr>\n",
       "      <th>mean</th>\n",
       "      <td>60.833893</td>\n",
       "      <td>0.431438</td>\n",
       "      <td>581.839465</td>\n",
       "      <td>0.418060</td>\n",
       "      <td>38.083612</td>\n",
       "      <td>0.351171</td>\n",
       "      <td>263358.029264</td>\n",
       "      <td>1.39388</td>\n",
       "      <td>136.625418</td>\n",
       "      <td>0.648829</td>\n",
       "      <td>0.32107</td>\n",
       "      <td>130.260870</td>\n",
       "      <td>0.32107</td>\n",
       "    </tr>\n",
       "    <tr>\n",
       "      <th>std</th>\n",
       "      <td>11.894809</td>\n",
       "      <td>0.496107</td>\n",
       "      <td>970.287881</td>\n",
       "      <td>0.494067</td>\n",
       "      <td>11.834841</td>\n",
       "      <td>0.478136</td>\n",
       "      <td>97804.236869</td>\n",
       "      <td>1.03451</td>\n",
       "      <td>4.412477</td>\n",
       "      <td>0.478136</td>\n",
       "      <td>0.46767</td>\n",
       "      <td>77.614208</td>\n",
       "      <td>0.46767</td>\n",
       "    </tr>\n",
       "    <tr>\n",
       "      <th>min</th>\n",
       "      <td>40.000000</td>\n",
       "      <td>0.000000</td>\n",
       "      <td>23.000000</td>\n",
       "      <td>0.000000</td>\n",
       "      <td>14.000000</td>\n",
       "      <td>0.000000</td>\n",
       "      <td>25100.000000</td>\n",
       "      <td>0.50000</td>\n",
       "      <td>113.000000</td>\n",
       "      <td>0.000000</td>\n",
       "      <td>0.00000</td>\n",
       "      <td>4.000000</td>\n",
       "      <td>0.00000</td>\n",
       "    </tr>\n",
       "    <tr>\n",
       "      <th>25%</th>\n",
       "      <td>51.000000</td>\n",
       "      <td>0.000000</td>\n",
       "      <td>116.500000</td>\n",
       "      <td>0.000000</td>\n",
       "      <td>30.000000</td>\n",
       "      <td>0.000000</td>\n",
       "      <td>212500.000000</td>\n",
       "      <td>0.90000</td>\n",
       "      <td>134.000000</td>\n",
       "      <td>0.000000</td>\n",
       "      <td>0.00000</td>\n",
       "      <td>73.000000</td>\n",
       "      <td>0.00000</td>\n",
       "    </tr>\n",
       "    <tr>\n",
       "      <th>50%</th>\n",
       "      <td>60.000000</td>\n",
       "      <td>0.000000</td>\n",
       "      <td>250.000000</td>\n",
       "      <td>0.000000</td>\n",
       "      <td>38.000000</td>\n",
       "      <td>0.000000</td>\n",
       "      <td>262000.000000</td>\n",
       "      <td>1.10000</td>\n",
       "      <td>137.000000</td>\n",
       "      <td>1.000000</td>\n",
       "      <td>0.00000</td>\n",
       "      <td>115.000000</td>\n",
       "      <td>0.00000</td>\n",
       "    </tr>\n",
       "    <tr>\n",
       "      <th>75%</th>\n",
       "      <td>70.000000</td>\n",
       "      <td>1.000000</td>\n",
       "      <td>582.000000</td>\n",
       "      <td>1.000000</td>\n",
       "      <td>45.000000</td>\n",
       "      <td>1.000000</td>\n",
       "      <td>303500.000000</td>\n",
       "      <td>1.40000</td>\n",
       "      <td>140.000000</td>\n",
       "      <td>1.000000</td>\n",
       "      <td>1.00000</td>\n",
       "      <td>203.000000</td>\n",
       "      <td>1.00000</td>\n",
       "    </tr>\n",
       "    <tr>\n",
       "      <th>max</th>\n",
       "      <td>95.000000</td>\n",
       "      <td>1.000000</td>\n",
       "      <td>7861.000000</td>\n",
       "      <td>1.000000</td>\n",
       "      <td>80.000000</td>\n",
       "      <td>1.000000</td>\n",
       "      <td>850000.000000</td>\n",
       "      <td>9.40000</td>\n",
       "      <td>148.000000</td>\n",
       "      <td>1.000000</td>\n",
       "      <td>1.00000</td>\n",
       "      <td>285.000000</td>\n",
       "      <td>1.00000</td>\n",
       "    </tr>\n",
       "  </tbody>\n",
       "</table>\n",
       "</div>"
      ],
      "text/plain": [
       "              age     anaemia  creatinine_phosphokinase    diabetes  \\\n",
       "count  299.000000  299.000000                299.000000  299.000000   \n",
       "mean    60.833893    0.431438                581.839465    0.418060   \n",
       "std     11.894809    0.496107                970.287881    0.494067   \n",
       "min     40.000000    0.000000                 23.000000    0.000000   \n",
       "25%     51.000000    0.000000                116.500000    0.000000   \n",
       "50%     60.000000    0.000000                250.000000    0.000000   \n",
       "75%     70.000000    1.000000                582.000000    1.000000   \n",
       "max     95.000000    1.000000               7861.000000    1.000000   \n",
       "\n",
       "       ejection_fraction  high_blood_pressure      platelets  \\\n",
       "count         299.000000           299.000000     299.000000   \n",
       "mean           38.083612             0.351171  263358.029264   \n",
       "std            11.834841             0.478136   97804.236869   \n",
       "min            14.000000             0.000000   25100.000000   \n",
       "25%            30.000000             0.000000  212500.000000   \n",
       "50%            38.000000             0.000000  262000.000000   \n",
       "75%            45.000000             1.000000  303500.000000   \n",
       "max            80.000000             1.000000  850000.000000   \n",
       "\n",
       "       serum_creatinine  serum_sodium         sex    smoking        time  \\\n",
       "count         299.00000    299.000000  299.000000  299.00000  299.000000   \n",
       "mean            1.39388    136.625418    0.648829    0.32107  130.260870   \n",
       "std             1.03451      4.412477    0.478136    0.46767   77.614208   \n",
       "min             0.50000    113.000000    0.000000    0.00000    4.000000   \n",
       "25%             0.90000    134.000000    0.000000    0.00000   73.000000   \n",
       "50%             1.10000    137.000000    1.000000    0.00000  115.000000   \n",
       "75%             1.40000    140.000000    1.000000    1.00000  203.000000   \n",
       "max             9.40000    148.000000    1.000000    1.00000  285.000000   \n",
       "\n",
       "       DEATH_EVENT  \n",
       "count    299.00000  \n",
       "mean       0.32107  \n",
       "std        0.46767  \n",
       "min        0.00000  \n",
       "25%        0.00000  \n",
       "50%        0.00000  \n",
       "75%        1.00000  \n",
       "max        1.00000  "
      ]
     },
     "execution_count": 4,
     "metadata": {},
     "output_type": "execute_result"
    }
   ],
   "source": [
    "df.describe()"
   ]
  },
  {
   "cell_type": "markdown",
   "id": "b1d2121b-2b7e-4c86-9d62-5398148c9936",
   "metadata": {},
   "source": [
    "- as per mentioned in question that target attribute can be removed \n",
    "- Dropping unnecessary attributes.\n"
   ]
  },
  {
   "cell_type": "code",
   "execution_count": 5,
   "id": "569a7222-bfda-4f42-ba38-15ac5be593c3",
   "metadata": {},
   "outputs": [],
   "source": [
    "df = df.drop(['DEATH_EVENT'], axis=1)"
   ]
  },
  {
   "cell_type": "code",
   "execution_count": 6,
   "id": "5c56f1b1-e717-4280-9929-0cdd531d4737",
   "metadata": {},
   "outputs": [
    {
     "data": {
      "text/html": [
       "<div>\n",
       "<style scoped>\n",
       "    .dataframe tbody tr th:only-of-type {\n",
       "        vertical-align: middle;\n",
       "    }\n",
       "\n",
       "    .dataframe tbody tr th {\n",
       "        vertical-align: top;\n",
       "    }\n",
       "\n",
       "    .dataframe thead th {\n",
       "        text-align: right;\n",
       "    }\n",
       "</style>\n",
       "<table border=\"1\" class=\"dataframe\">\n",
       "  <thead>\n",
       "    <tr style=\"text-align: right;\">\n",
       "      <th></th>\n",
       "      <th>age</th>\n",
       "      <th>anaemia</th>\n",
       "      <th>creatinine_phosphokinase</th>\n",
       "      <th>diabetes</th>\n",
       "      <th>ejection_fraction</th>\n",
       "      <th>high_blood_pressure</th>\n",
       "      <th>platelets</th>\n",
       "      <th>serum_creatinine</th>\n",
       "      <th>serum_sodium</th>\n",
       "      <th>sex</th>\n",
       "      <th>smoking</th>\n",
       "      <th>time</th>\n",
       "    </tr>\n",
       "  </thead>\n",
       "  <tbody>\n",
       "    <tr>\n",
       "      <th>0</th>\n",
       "      <td>75.0</td>\n",
       "      <td>0</td>\n",
       "      <td>582</td>\n",
       "      <td>0</td>\n",
       "      <td>20</td>\n",
       "      <td>1</td>\n",
       "      <td>265000.00</td>\n",
       "      <td>1.9</td>\n",
       "      <td>130</td>\n",
       "      <td>1</td>\n",
       "      <td>0</td>\n",
       "      <td>4</td>\n",
       "    </tr>\n",
       "    <tr>\n",
       "      <th>1</th>\n",
       "      <td>55.0</td>\n",
       "      <td>0</td>\n",
       "      <td>7861</td>\n",
       "      <td>0</td>\n",
       "      <td>38</td>\n",
       "      <td>0</td>\n",
       "      <td>263358.03</td>\n",
       "      <td>1.1</td>\n",
       "      <td>136</td>\n",
       "      <td>1</td>\n",
       "      <td>0</td>\n",
       "      <td>6</td>\n",
       "    </tr>\n",
       "    <tr>\n",
       "      <th>2</th>\n",
       "      <td>65.0</td>\n",
       "      <td>0</td>\n",
       "      <td>146</td>\n",
       "      <td>0</td>\n",
       "      <td>20</td>\n",
       "      <td>0</td>\n",
       "      <td>162000.00</td>\n",
       "      <td>1.3</td>\n",
       "      <td>129</td>\n",
       "      <td>1</td>\n",
       "      <td>1</td>\n",
       "      <td>7</td>\n",
       "    </tr>\n",
       "    <tr>\n",
       "      <th>3</th>\n",
       "      <td>50.0</td>\n",
       "      <td>1</td>\n",
       "      <td>111</td>\n",
       "      <td>0</td>\n",
       "      <td>20</td>\n",
       "      <td>0</td>\n",
       "      <td>210000.00</td>\n",
       "      <td>1.9</td>\n",
       "      <td>137</td>\n",
       "      <td>1</td>\n",
       "      <td>0</td>\n",
       "      <td>7</td>\n",
       "    </tr>\n",
       "    <tr>\n",
       "      <th>4</th>\n",
       "      <td>65.0</td>\n",
       "      <td>1</td>\n",
       "      <td>160</td>\n",
       "      <td>1</td>\n",
       "      <td>20</td>\n",
       "      <td>0</td>\n",
       "      <td>327000.00</td>\n",
       "      <td>2.7</td>\n",
       "      <td>116</td>\n",
       "      <td>0</td>\n",
       "      <td>0</td>\n",
       "      <td>8</td>\n",
       "    </tr>\n",
       "  </tbody>\n",
       "</table>\n",
       "</div>"
      ],
      "text/plain": [
       "    age  anaemia  creatinine_phosphokinase  diabetes  ejection_fraction  \\\n",
       "0  75.0        0                       582         0                 20   \n",
       "1  55.0        0                      7861         0                 38   \n",
       "2  65.0        0                       146         0                 20   \n",
       "3  50.0        1                       111         0                 20   \n",
       "4  65.0        1                       160         1                 20   \n",
       "\n",
       "   high_blood_pressure  platelets  serum_creatinine  serum_sodium  sex  \\\n",
       "0                    1  265000.00               1.9           130    1   \n",
       "1                    0  263358.03               1.1           136    1   \n",
       "2                    0  162000.00               1.3           129    1   \n",
       "3                    0  210000.00               1.9           137    1   \n",
       "4                    0  327000.00               2.7           116    0   \n",
       "\n",
       "   smoking  time  \n",
       "0        0     4  \n",
       "1        0     6  \n",
       "2        1     7  \n",
       "3        0     7  \n",
       "4        0     8  "
      ]
     },
     "execution_count": 6,
     "metadata": {},
     "output_type": "execute_result"
    }
   ],
   "source": [
    "df.head()"
   ]
  },
  {
   "cell_type": "markdown",
   "id": "2c98c2d4-a660-475e-a3aa-74b884a03592",
   "metadata": {},
   "source": [
    "Deatil description of heart failure patients by observing the statistical overviw of dataset.\n",
    "\n",
    "- All the patients are more than 40 years old, having left ventricular systolic dysfunction.\n",
    "\n",
    "- 299 patients of heart failure comprising of 105 women and 194 men.\n",
    "\n",
    "- We can consider Age, serum sodium and creatinine_phosphokinase are continuous variables whereas ejection_fraction, serum creatinine and platelets can consider as categorical variables.\n",
    "\n",
    "- Follow up time is 4–285 days with an average of 130 days.\n",
    "\n",
    "- The age range of the patients is 40 to 95 and the average age is 60.83.\n",
    "\n",
    "- The mean average of smoking shows only 32% of patients have smoking problem.\n",
    "\n"
   ]
  },
  {
   "cell_type": "markdown",
   "id": "e0c48ab5-3613-41cc-9fca-fbb570ae2581",
   "metadata": {},
   "source": [
    "### by observing the statistical overview of dataset the 4 attributes having outliers as follows:\n",
    "- creatinine_phosphokinase\n",
    "- ejection_fraction\n",
    "- platelets\n",
    "- serum_creatinine"
   ]
  },
  {
   "cell_type": "code",
   "execution_count": 7,
   "id": "c39e50c5-d3a9-45c9-a67b-72e4a672b11c",
   "metadata": {},
   "outputs": [
    {
     "data": {
      "text/plain": [
       "(array([ 1,  2,  3,  4,  5,  6,  7,  8,  9, 10, 11, 12]),\n",
       " [Text(1, 0, 'age'),\n",
       "  Text(2, 0, 'anaemia'),\n",
       "  Text(3, 0, 'creatinine_phosphokinase'),\n",
       "  Text(4, 0, 'diabetes'),\n",
       "  Text(5, 0, 'ejection_fraction'),\n",
       "  Text(6, 0, 'high_blood_pressure'),\n",
       "  Text(7, 0, 'platelets'),\n",
       "  Text(8, 0, 'serum_creatinine'),\n",
       "  Text(9, 0, 'serum_sodium'),\n",
       "  Text(10, 0, 'sex'),\n",
       "  Text(11, 0, 'smoking'),\n",
       "  Text(12, 0, 'time')])"
      ]
     },
     "execution_count": 7,
     "metadata": {},
     "output_type": "execute_result"
    },
    {
     "data": {
      "image/png": "[encoded data removed]",
      "text/plain": [
       "<Figure size 1080x576 with 1 Axes>"
      ]
     },
     "metadata": {
      "needs_background": "light"
     },
     "output_type": "display_data"
    }
   ],
   "source": [
    "plt.figure(figsize=(15,8))\n",
    "df.boxplot()\n",
    "plt.xticks(rotation=90)"
   ]
  },
  {
   "cell_type": "markdown",
   "id": "56705d47-f2f2-4489-9225-298cfb93c656",
   "metadata": {},
   "source": [
    "#### In the above figure I am not able to recognize the outliers in each of the attribute so I will plot the boxplot for each attribute."
   ]
  },
  {
   "cell_type": "code",
   "execution_count": 8,
   "id": "cbbb07e0-a88a-46c2-8dde-96a4877128a5",
   "metadata": {},
   "outputs": [
    {
     "data": {
      "text/plain": [
       "<AxesSubplot:xlabel='platelets'>"
      ]
     },
     "execution_count": 8,
     "metadata": {},
     "output_type": "execute_result"
    },
    {
     "data": {
      "image/png": "[encoded data removed]",
      "text/plain": [
       "<Figure size 720x432 with 1 Axes>"
      ]
     },
     "metadata": {
      "needs_background": "light"
     },
     "output_type": "display_data"
    }
   ],
   "source": [
    "plt.figure(figsize=(10,6))\n",
    "sns.boxplot(x=df[\"platelets\"], width=0.9)"
   ]
  },
  {
   "cell_type": "code",
   "execution_count": 9,
   "id": "afe249fa-90e1-4275-a3f4-60cd831179d4",
   "metadata": {},
   "outputs": [
    {
     "data": {
      "text/plain": [
       "<AxesSubplot:xlabel='creatinine_phosphokinase'>"
      ]
     },
     "execution_count": 9,
     "metadata": {},
     "output_type": "execute_result"
    },
    {
     "data": {
      "image/png": "[encoded data removed]",
      "text/plain": [
       "<Figure size 720x432 with 1 Axes>"
      ]
     },
     "metadata": {
      "needs_background": "light"
     },
     "output_type": "display_data"
    }
   ],
   "source": [
    "plt.figure(figsize=(10,6))\n",
    "sns.boxplot(x=df[\"creatinine_phosphokinase\"], width=0.5)"
   ]
  },
  {
   "cell_type": "code",
   "execution_count": 10,
   "id": "9a20f204-3c96-460c-8a16-68c0348102fd",
   "metadata": {},
   "outputs": [
    {
     "data": {
      "text/plain": [
       "<AxesSubplot:xlabel='serum_creatinine'>"
      ]
     },
     "execution_count": 10,
     "metadata": {},
     "output_type": "execute_result"
    },
    {
     "data": {
      "image/png": "[encoded data removed]",
      "text/plain": [
       "<Figure size 720x432 with 1 Axes>"
      ]
     },
     "metadata": {
      "needs_background": "light"
     },
     "output_type": "display_data"
    }
   ],
   "source": [
    "plt.figure(figsize=(10,6))\n",
    "sns.boxplot(x=df[\"serum_creatinine\"], width=0.5)"
   ]
  },
  {
   "cell_type": "code",
   "execution_count": 11,
   "id": "121cb0b1-051e-4c90-a787-bef1054e3b1c",
   "metadata": {},
   "outputs": [
    {
     "data": {
      "text/plain": [
       "<AxesSubplot:xlabel='ejection_fraction'>"
      ]
     },
     "execution_count": 11,
     "metadata": {},
     "output_type": "execute_result"
    },
    {
     "data": {
      "image/png": "[encoded data removed]",
      "text/plain": [
       "<Figure size 720x432 with 1 Axes>"
      ]
     },
     "metadata": {
      "needs_background": "light"
     },
     "output_type": "display_data"
    }
   ],
   "source": [
    "plt.figure(figsize=(10,6))\n",
    "sns.boxplot(x=df[\"ejection_fraction\"], width=0.5)"
   ]
  },
  {
   "cell_type": "code",
   "execution_count": 12,
   "id": "1686a121-64d1-43b7-81b7-3b4c69dbda3a",
   "metadata": {},
   "outputs": [
    {
     "name": "stdout",
     "output_type": "stream",
     "text": [
      "This observations fall farther than three standard deviations from the mean: [621000.0, 850000.0, 742000.0]\n"
     ]
    }
   ],
   "source": [
    "outliers = []\n",
    "def find_Outliers(df):\n",
    "    mean = np.mean(df)\n",
    "    std = np.std(df)\n",
    "    \n",
    "    for i in df:\n",
    "        z_score = (i - mean)/std\n",
    "        if np.abs(z_score) > 3:\n",
    "            outliers.append(i)\n",
    "    return outliers\n",
    "print(\"This observations fall farther than three standard deviations from the mean:\",find_Outliers(df[\"platelets\"]))"
   ]
  },
  {
   "cell_type": "code",
   "execution_count": 13,
   "id": "bf5a1284-f5ed-4c31-93f8-de21ad340cf3",
   "metadata": {},
   "outputs": [
    {
     "name": "stdout",
     "output_type": "stream",
     "text": [
      "This observations fall farther than three standard deviations from the mean: [7861, 3964, 7702, 5882, 5209, 4540, 3966]\n"
     ]
    }
   ],
   "source": [
    "outliers = []\n",
    "def find_Outliers(df):\n",
    "    mean = np.mean(df)\n",
    "    std = np.std(df)\n",
    "    \n",
    "    for i in df:\n",
    "        z_score = (i - mean)/std\n",
    "        if np.abs(z_score) > 3:\n",
    "            outliers.append(i)\n",
    "    return outliers\n",
    "print(\"This observations fall farther than three standard deviations from the mean:\",find_Outliers(df[\"creatinine_phosphokinase\"]))"
   ]
  },
  {
   "cell_type": "code",
   "execution_count": 14,
   "id": "4234886d-7e05-4041-ab2f-ba31c77e823b",
   "metadata": {},
   "outputs": [
    {
     "name": "stdout",
     "output_type": "stream",
     "text": [
      "This observations fall farther than three standard deviations from the mean: [9.4, 5.8, 6.8, 6.1, 9.0, 5.0]\n"
     ]
    }
   ],
   "source": [
    "outliers = []\n",
    "def find_Outliers(df):\n",
    "    mean = np.mean(df)\n",
    "    std = np.std(df)\n",
    "    \n",
    "    for i in df:\n",
    "        z_score = (i - mean)/std\n",
    "        if np.abs(z_score) > 3:\n",
    "            outliers.append(i)\n",
    "    return outliers\n",
    "print(\"This observations fall farther than three standard deviations from the mean:\",find_Outliers(df[\"serum_creatinine\"]))"
   ]
  },
  {
   "cell_type": "code",
   "execution_count": 15,
   "id": "a0f2ad25-c375-44f9-b20b-1cf7001ece1e",
   "metadata": {},
   "outputs": [
    {
     "name": "stdout",
     "output_type": "stream",
     "text": [
      "This observations fall farther than three standard deviations from the mean: [80]\n"
     ]
    }
   ],
   "source": [
    "outliers = []\n",
    "def find_Outliers(df):\n",
    "    mean = np.mean(df)\n",
    "    std = np.std(df)\n",
    "    \n",
    "    for i in df:\n",
    "        z_score = (i - mean)/std\n",
    "        if np.abs(z_score) > 3:\n",
    "            outliers.append(i)\n",
    "    return outliers\n",
    "print(\"This observations fall farther than three standard deviations from the mean:\",find_Outliers(df[\"ejection_fraction\"]))"
   ]
  },
  {
   "cell_type": "markdown",
   "id": "8f60b772-ac46-450b-b528-a0e2ce53387d",
   "metadata": {},
   "source": [
    "- for creatinine_phosphokinase values over 3000 can be considered as outliers.\n",
    "- for ejection_fraction values, values over 60 can be considered as outliers.\n",
    "- for platelets attribute, values over 600K can be seen as outliers.\n",
    "- serum_creatinine values, values over 4 can be considered as outliers."
   ]
  },
  {
   "cell_type": "markdown",
   "id": "34f6a3b8-a0aa-4d7e-9ed9-9a86269ef083",
   "metadata": {},
   "source": [
    "- **Q1-b) Perform the curation of the data, if required. (For example, filling the missing values).**"
   ]
  },
  {
   "cell_type": "markdown",
   "id": "2ad0d1bb-993c-4551-a1f7-1b9a4e5a306c",
   "metadata": {},
   "source": [
    " **So, let's remove those samples from our data**"
   ]
  },
  {
   "cell_type": "code",
   "execution_count": 16,
   "id": "588bb8fe-9310-49cb-8d72-b7f17ef7b2dc",
   "metadata": {},
   "outputs": [
    {
     "data": {
      "text/plain": [
       "Index([], dtype='object')"
      ]
     },
     "execution_count": 16,
     "metadata": {},
     "output_type": "execute_result"
    }
   ],
   "source": [
    "#checking null or missing values\n",
    "df.columns[df.isnull().any()]"
   ]
  },
  {
   "cell_type": "markdown",
   "id": "a8929fc2-2502-40c8-8713-9de1af747d50",
   "metadata": {},
   "source": [
    "- null values are not present in dataset."
   ]
  },
  {
   "cell_type": "code",
   "execution_count": 17,
   "id": "4d69d066-9b6a-4118-91f0-da696795bcf4",
   "metadata": {},
   "outputs": [
    {
     "name": "stdout",
     "output_type": "stream",
     "text": [
      "Number of removed outliers: 50\n"
     ]
    }
   ],
   "source": [
    "size = len(df)\n",
    "df = df[(df['creatinine_phosphokinase'] < 3000) & (df['ejection_fraction'] < 60) & (df['platelets'] < 600000) & (df['serum_creatinine'] < 4)]\n",
    "print('Number of removed outliers: {}'.format(size - len(df)))"
   ]
  },
  {
   "cell_type": "markdown",
   "id": "c1d95994-3bd6-48a6-a045-e6bed6062278",
   "metadata": {},
   "source": [
    "- **Q1-c) Perform normalization using appropriate method.**\n",
    "**Normalize the data**"
   ]
  },
  {
   "cell_type": "code",
   "execution_count": 18,
   "id": "4e31d1d0-5854-4aa9-b2c3-7cc3cc5a1821",
   "metadata": {},
   "outputs": [],
   "source": [
    "# Keep the copy of original dataframe\n",
    "df_orig = df"
   ]
  },
  {
   "cell_type": "code",
   "execution_count": 19,
   "id": "55813ac2-81b8-476f-9291-a018b785862a",
   "metadata": {},
   "outputs": [
    {
     "name": "stdout",
     "output_type": "stream",
     "text": [
      "[('age', 'float64'), ('anaemia', 'int64'), ('creatinine_phosphokinase', 'int64'), ('diabetes', 'int64'), ('ejection_fraction', 'int64'), ('high_blood_pressure', 'int64'), ('platelets', 'float64'), ('serum_creatinine', 'float64'), ('serum_sodium', 'int64'), ('sex', 'int64'), ('smoking', 'int64'), ('time', 'int64')]\n"
     ]
    }
   ],
   "source": [
    "def standardization(dataset):\n",
    "    \"\"\" Standardization of numeric fields, where all values will have mean of zero \n",
    "    and standard deviation of one. (z-score)\n",
    "    \"\"\"\n",
    "    dtypes = list(zip(dataset.dtypes.index, map(str, dataset.dtypes)))\n",
    "    print(dtypes)\n",
    "    for column, dtype in dtypes:\n",
    "        #if dtype == 'float32':\n",
    "        dataset[column] -= dataset[column].mean()\n",
    "        dataset[column] /= dataset[column].std()\n",
    "    return dataset\n",
    "df = standardization(df_orig)"
   ]
  },
  {
   "cell_type": "code",
   "execution_count": 20,
   "id": "a31e4eb6-5465-4485-af79-62303c993a31",
   "metadata": {},
   "outputs": [
    {
     "data": {
      "text/html": [
       "<div>\n",
       "<style scoped>\n",
       "    .dataframe tbody tr th:only-of-type {\n",
       "        vertical-align: middle;\n",
       "    }\n",
       "\n",
       "    .dataframe tbody tr th {\n",
       "        vertical-align: top;\n",
       "    }\n",
       "\n",
       "    .dataframe thead th {\n",
       "        text-align: right;\n",
       "    }\n",
       "</style>\n",
       "<table border=\"1\" class=\"dataframe\">\n",
       "  <thead>\n",
       "    <tr style=\"text-align: right;\">\n",
       "      <th></th>\n",
       "      <th>age</th>\n",
       "      <th>anaemia</th>\n",
       "      <th>creatinine_phosphokinase</th>\n",
       "      <th>diabetes</th>\n",
       "      <th>ejection_fraction</th>\n",
       "      <th>high_blood_pressure</th>\n",
       "      <th>platelets</th>\n",
       "      <th>serum_creatinine</th>\n",
       "      <th>serum_sodium</th>\n",
       "      <th>sex</th>\n",
       "      <th>smoking</th>\n",
       "      <th>time</th>\n",
       "    </tr>\n",
       "  </thead>\n",
       "  <tbody>\n",
       "    <tr>\n",
       "      <th>0</th>\n",
       "      <td>1.202477</td>\n",
       "      <td>-0.838240</td>\n",
       "      <td>0.189290</td>\n",
       "      <td>-0.866311</td>\n",
       "      <td>-1.716825</td>\n",
       "      <td>1.386241</td>\n",
       "      <td>0.098633</td>\n",
       "      <td>1.057643</td>\n",
       "      <td>-1.459503</td>\n",
       "      <td>0.718478</td>\n",
       "      <td>-0.674024</td>\n",
       "      <td>-1.655910</td>\n",
       "    </tr>\n",
       "    <tr>\n",
       "      <th>2</th>\n",
       "      <td>0.368137</td>\n",
       "      <td>-0.838240</td>\n",
       "      <td>-0.604026</td>\n",
       "      <td>-0.866311</td>\n",
       "      <td>-1.716825</td>\n",
       "      <td>-0.718478</td>\n",
       "      <td>-1.092857</td>\n",
       "      <td>0.027377</td>\n",
       "      <td>-1.683558</td>\n",
       "      <td>0.718478</td>\n",
       "      <td>1.477668</td>\n",
       "      <td>-1.618036</td>\n",
       "    </tr>\n",
       "    <tr>\n",
       "      <th>3</th>\n",
       "      <td>-0.883373</td>\n",
       "      <td>1.188185</td>\n",
       "      <td>-0.667710</td>\n",
       "      <td>-0.866311</td>\n",
       "      <td>-1.716825</td>\n",
       "      <td>-0.718478</td>\n",
       "      <td>-0.537599</td>\n",
       "      <td>1.057643</td>\n",
       "      <td>0.108878</td>\n",
       "      <td>0.718478</td>\n",
       "      <td>-0.674024</td>\n",
       "      <td>-1.618036</td>\n",
       "    </tr>\n",
       "    <tr>\n",
       "      <th>4</th>\n",
       "      <td>0.368137</td>\n",
       "      <td>1.188185</td>\n",
       "      <td>-0.578553</td>\n",
       "      <td>1.149684</td>\n",
       "      <td>-1.716825</td>\n",
       "      <td>-0.718478</td>\n",
       "      <td>0.815841</td>\n",
       "      <td>2.431330</td>\n",
       "      <td>-4.596265</td>\n",
       "      <td>-1.386241</td>\n",
       "      <td>-0.674024</td>\n",
       "      <td>-1.605411</td>\n",
       "    </tr>\n",
       "    <tr>\n",
       "      <th>5</th>\n",
       "      <td>2.453986</td>\n",
       "      <td>1.188185</td>\n",
       "      <td>-0.784160</td>\n",
       "      <td>-0.866311</td>\n",
       "      <td>0.569826</td>\n",
       "      <td>1.386241</td>\n",
       "      <td>-0.607006</td>\n",
       "      <td>1.401064</td>\n",
       "      <td>-1.011394</td>\n",
       "      <td>0.718478</td>\n",
       "      <td>1.477668</td>\n",
       "      <td>-1.605411</td>\n",
       "    </tr>\n",
       "  </tbody>\n",
       "</table>\n",
       "</div>"
      ],
      "text/plain": [
       "        age   anaemia  creatinine_phosphokinase  diabetes  ejection_fraction  \\\n",
       "0  1.202477 -0.838240                  0.189290 -0.866311          -1.716825   \n",
       "2  0.368137 -0.838240                 -0.604026 -0.866311          -1.716825   \n",
       "3 -0.883373  1.188185                 -0.667710 -0.866311          -1.716825   \n",
       "4  0.368137  1.188185                 -0.578553  1.149684          -1.716825   \n",
       "5  2.453986  1.188185                 -0.784160 -0.866311           0.569826   \n",
       "\n",
       "   high_blood_pressure  platelets  serum_creatinine  serum_sodium       sex  \\\n",
       "0             1.386241   0.098633          1.057643     -1.459503  0.718478   \n",
       "2            -0.718478  -1.092857          0.027377     -1.683558  0.718478   \n",
       "3            -0.718478  -0.537599          1.057643      0.108878  0.718478   \n",
       "4            -0.718478   0.815841          2.431330     -4.596265 -1.386241   \n",
       "5             1.386241  -0.607006          1.401064     -1.011394  0.718478   \n",
       "\n",
       "    smoking      time  \n",
       "0 -0.674024 -1.655910  \n",
       "2  1.477668 -1.618036  \n",
       "3 -0.674024 -1.618036  \n",
       "4 -0.674024 -1.605411  \n",
       "5  1.477668 -1.605411  "
      ]
     },
     "execution_count": 20,
     "metadata": {},
     "output_type": "execute_result"
    }
   ],
   "source": [
    "df.head()"
   ]
  },
  {
   "cell_type": "markdown",
   "id": "a3a3f770-778d-4183-8db7-4f3b877b8cc8",
   "metadata": {},
   "source": [
    "- **Q1-d) Find out the optimal K-Value using any method and visualize the elbow curve.**"
   ]
  },
  {
   "cell_type": "markdown",
   "id": "b865616f-f861-4ac6-8f80-7a9a53f53ba8",
   "metadata": {},
   "source": [
    "### Finding the optimal number of clusters - K\n",
    "- Using Inertia "
   ]
  },
  {
   "cell_type": "markdown",
   "id": "97812617-704f-482f-ab42-bb6c55b4fd18",
   "metadata": {},
   "source": [
    "#### Elbow Method"
   ]
  },
  {
   "cell_type": "code",
   "execution_count": 21,
   "id": "414919dc-d599-43e4-9141-d2f618917632",
   "metadata": {},
   "outputs": [],
   "source": [
    "from sklearn.cluster import KMeans"
   ]
  },
  {
   "cell_type": "code",
   "execution_count": 22,
   "id": "7fa4829f-4242-4691-83f2-3b8b33212c64",
   "metadata": {},
   "outputs": [
    {
     "data": {
      "image/png": "[encoded data removed]",
      "text/plain": [
       "<Figure size 720x324 with 1 Axes>"
      ]
     },
     "metadata": {
      "needs_background": "light"
     },
     "output_type": "display_data"
    }
   ],
   "source": [
    "# Try K=1 to 9\n",
    "kmeans_per_k = [KMeans(n_clusters=k, random_state=42).fit(df) for k in range(1, 10)]\n",
    "inertias = [model.inertia_ for model in kmeans_per_k]\n",
    "plt.figure(figsize=(10, 4.5))\n",
    "plt.plot(range(1, 10), inertias, \"ro--\")\n",
    "plt.xlabel(\"$k$\", fontsize=14)\n",
    "plt.ylabel(\"Inertia\", fontsize=14)\n",
    "plt.annotate('Elbow', xy=(3, inertias[2]))\n",
    "plt.show()"
   ]
  },
  {
   "cell_type": "markdown",
   "id": "d5a57e80-9fa7-4e86-8747-d5d4360a2b52",
   "metadata": {},
   "source": [
    "- As we can see, there is an elbow at  𝑘=3 , which means that less clusters than that would be bad, and more clusters would not help much and might cut clusters in half. So  𝑘=3  is a quite good choice. so, now we need to check the cluster id by taking k=3."
   ]
  },
  {
   "cell_type": "code",
   "execution_count": 23,
   "id": "7e2f0c81-3df3-41c5-9d0a-bad3be01cae7",
   "metadata": {},
   "outputs": [],
   "source": [
    "# Let's take k=3 as per elbow method\n",
    "kmeans = KMeans(n_clusters=3, random_state=42)\n",
    "y_pred = kmeans.fit_predict(df)"
   ]
  },
  {
   "cell_type": "code",
   "execution_count": 24,
   "id": "194a5f10-e956-4a0a-a384-66e9f7940271",
   "metadata": {},
   "outputs": [
    {
     "data": {
      "text/plain": [
       "array([1, 1, 1, 1, 1, 1, 2, 2, 2, 0, 1, 1, 1, 0, 1, 0, 0, 2, 1, 1, 0, 2,\n",
       "       1, 1, 1, 0, 0, 2, 1, 1, 0, 1, 1, 1, 0, 2, 1, 2, 1, 2, 0, 1, 0, 0,\n",
       "       1, 1, 1, 2, 2, 1, 1, 2, 2, 1, 0, 2, 0, 1, 2, 2, 2, 2, 2, 2, 2, 0,\n",
       "       0, 2, 1, 1, 0, 2, 2, 2, 2, 2, 2, 1, 0, 1, 0, 0, 2, 1, 2, 0, 2, 2,\n",
       "       2, 2, 1, 1, 0, 1, 0, 0, 0, 1, 0, 1, 2, 1, 0, 1, 1, 0, 2, 1, 0, 0,\n",
       "       0, 2, 2, 2, 1, 2, 1, 2, 2, 0, 1, 0, 2, 1, 2, 1, 2, 2, 0, 2, 0, 1,\n",
       "       0, 0, 2, 2, 2, 2, 0, 2, 2, 2, 2, 1, 2, 2, 0, 0, 0, 0, 1, 2, 2, 1,\n",
       "       2, 0, 0, 0, 1, 2, 1, 2, 0, 0, 1, 0, 0, 2, 2, 0, 2, 1, 0, 2, 0, 1,\n",
       "       2, 2, 2, 2, 2, 2, 0, 1, 2, 2, 2, 2, 0, 2, 1, 0, 2, 0, 2, 2, 0, 2,\n",
       "       2, 2, 1, 2, 0, 0, 0, 2, 0, 2, 0, 2, 2, 2, 2, 0, 1, 2, 2, 2, 2, 0,\n",
       "       2, 2, 0, 0, 2, 2, 0, 0, 2, 0, 0, 2, 1, 1, 2, 2, 2, 2, 0, 0, 0, 0,\n",
       "       2, 2, 2, 2, 0, 2, 2], dtype=int32)"
      ]
     },
     "execution_count": 24,
     "metadata": {},
     "output_type": "execute_result"
    }
   ],
   "source": [
    "y_pred"
   ]
  },
  {
   "cell_type": "code",
   "execution_count": 25,
   "id": "afa6fa45-75d1-43c4-b4ef-60b53fdd1d7c",
   "metadata": {},
   "outputs": [
    {
     "data": {
      "text/plain": [
       "array([[-0.14507446,  0.16146292,  0.01114547,  0.1820063 ,  0.19024207,\n",
       "         0.29178675,  0.29391029, -0.37305264,  0.26720966, -1.35817772,\n",
       "        -0.64533485,  0.13275267],\n",
       "       [ 0.63408268, -0.07833067, -0.13777105, -0.07881306, -0.32696995,\n",
       "        -0.02786745, -0.33096415,  1.0648867 , -0.75933307,  0.3567298 ,\n",
       "        -0.23696159, -0.57038599],\n",
       "       [-0.27000643, -0.06451414,  0.07255852, -0.07824033,  0.06052656,\n",
       "        -0.18273172, -0.00783242, -0.36521638,  0.25960538,  0.71847838,\n",
       "         0.5778696 ,  0.24134775]])"
      ]
     },
     "execution_count": 25,
     "metadata": {},
     "output_type": "execute_result"
    }
   ],
   "source": [
    "kmeans.cluster_centers_"
   ]
  },
  {
   "cell_type": "markdown",
   "id": "1b5bf08c-0a7c-41f8-a945-a3a943b9c0ea",
   "metadata": {},
   "source": [
    "- **Q1-e) Visualize the clusters and save the cluster ID of every patient to a csv fille.**"
   ]
  },
  {
   "cell_type": "code",
   "execution_count": 26,
   "id": "e0f6e589-faf6-48b0-9cca-65e84cac2082",
   "metadata": {},
   "outputs": [],
   "source": [
    "from sklearn.decomposition import PCA"
   ]
  },
  {
   "cell_type": "code",
   "execution_count": 27,
   "id": "25c3673c-575c-4c50-98e3-0db12f61caca",
   "metadata": {},
   "outputs": [
    {
     "data": {
      "text/plain": [
       "<Figure size 720x576 with 0 Axes>"
      ]
     },
     "metadata": {},
     "output_type": "display_data"
    }
   ],
   "source": [
    "plt.figure(figsize=(10,8))\n",
    "pca = PCA(n_components=2)\n",
    "pcs = pca.fit_transform(df)\n"
   ]
  },
  {
   "cell_type": "code",
   "execution_count": 28,
   "id": "35d71616-e2cf-443c-9d21-3cd09a84146a",
   "metadata": {},
   "outputs": [
    {
     "data": {
      "text/html": [
       "<div>\n",
       "<style scoped>\n",
       "    .dataframe tbody tr th:only-of-type {\n",
       "        vertical-align: middle;\n",
       "    }\n",
       "\n",
       "    .dataframe tbody tr th {\n",
       "        vertical-align: top;\n",
       "    }\n",
       "\n",
       "    .dataframe thead th {\n",
       "        text-align: right;\n",
       "    }\n",
       "</style>\n",
       "<table border=\"1\" class=\"dataframe\">\n",
       "  <thead>\n",
       "    <tr style=\"text-align: right;\">\n",
       "      <th></th>\n",
       "      <th>0</th>\n",
       "      <th>1</th>\n",
       "    </tr>\n",
       "  </thead>\n",
       "  <tbody>\n",
       "    <tr>\n",
       "      <th>0</th>\n",
       "      <td>1.954125</td>\n",
       "      <td>2.150881</td>\n",
       "    </tr>\n",
       "    <tr>\n",
       "      <th>1</th>\n",
       "      <td>3.088272</td>\n",
       "      <td>0.303779</td>\n",
       "    </tr>\n",
       "    <tr>\n",
       "      <th>2</th>\n",
       "      <td>1.559667</td>\n",
       "      <td>1.025304</td>\n",
       "    </tr>\n",
       "    <tr>\n",
       "      <th>3</th>\n",
       "      <td>1.877884</td>\n",
       "      <td>3.879226</td>\n",
       "    </tr>\n",
       "    <tr>\n",
       "      <th>4</th>\n",
       "      <td>2.719319</td>\n",
       "      <td>2.253371</td>\n",
       "    </tr>\n",
       "  </tbody>\n",
       "</table>\n",
       "</div>"
      ],
      "text/plain": [
       "          0         1\n",
       "0  1.954125  2.150881\n",
       "1  3.088272  0.303779\n",
       "2  1.559667  1.025304\n",
       "3  1.877884  3.879226\n",
       "4  2.719319  2.253371"
      ]
     },
     "execution_count": 28,
     "metadata": {},
     "output_type": "execute_result"
    }
   ],
   "source": [
    "a = pd.DataFrame(pcs)\n",
    "a.head()"
   ]
  },
  {
   "cell_type": "code",
   "execution_count": 29,
   "id": "b2fe717d-8064-4700-a240-889f91de9324",
   "metadata": {},
   "outputs": [
    {
     "data": {
      "image/png": "[encoded data removed]",
      "text/plain": [
       "<Figure size 432x288 with 1 Axes>"
      ]
     },
     "metadata": {
      "needs_background": "light"
     },
     "output_type": "display_data"
    }
   ],
   "source": [
    "plt.scatter(pcs[:, 0], pcs[:, 1], c = kmeans.labels_)\n",
    "plt.scatter(pcs[:, 0], pcs[:, 1], c = kmeans.labels_ )\n",
    "plt.scatter(pcs[:, 0], pcs[:, 1], c = kmeans.labels_ )\n",
    "plt.xlabel('First Principal Component')\n",
    "plt.ylabel('Second Principal Component')\n",
    "plt.title(\"PCA Scatter Plot\")\n",
    "plt.show()"
   ]
  },
  {
   "cell_type": "code",
   "execution_count": 30,
   "id": "84e487ea-a542-4569-8a40-fe4c5143dc7c",
   "metadata": {},
   "outputs": [
    {
     "data": {
      "text/html": [
       "<div>\n",
       "<style scoped>\n",
       "    .dataframe tbody tr th:only-of-type {\n",
       "        vertical-align: middle;\n",
       "    }\n",
       "\n",
       "    .dataframe tbody tr th {\n",
       "        vertical-align: top;\n",
       "    }\n",
       "\n",
       "    .dataframe thead th {\n",
       "        text-align: right;\n",
       "    }\n",
       "</style>\n",
       "<table border=\"1\" class=\"dataframe\">\n",
       "  <thead>\n",
       "    <tr style=\"text-align: right;\">\n",
       "      <th></th>\n",
       "      <th>age</th>\n",
       "      <th>anaemia</th>\n",
       "      <th>creatinine_phosphokinase</th>\n",
       "      <th>diabetes</th>\n",
       "      <th>ejection_fraction</th>\n",
       "      <th>high_blood_pressure</th>\n",
       "      <th>platelets</th>\n",
       "      <th>serum_creatinine</th>\n",
       "      <th>serum_sodium</th>\n",
       "      <th>sex</th>\n",
       "      <th>smoking</th>\n",
       "      <th>time</th>\n",
       "    </tr>\n",
       "  </thead>\n",
       "  <tbody>\n",
       "    <tr>\n",
       "      <th>0</th>\n",
       "      <td>1.202477</td>\n",
       "      <td>-0.838240</td>\n",
       "      <td>0.189290</td>\n",
       "      <td>-0.866311</td>\n",
       "      <td>-1.716825</td>\n",
       "      <td>1.386241</td>\n",
       "      <td>0.098633</td>\n",
       "      <td>1.057643</td>\n",
       "      <td>-1.459503</td>\n",
       "      <td>0.718478</td>\n",
       "      <td>-0.674024</td>\n",
       "      <td>-1.655910</td>\n",
       "    </tr>\n",
       "    <tr>\n",
       "      <th>2</th>\n",
       "      <td>0.368137</td>\n",
       "      <td>-0.838240</td>\n",
       "      <td>-0.604026</td>\n",
       "      <td>-0.866311</td>\n",
       "      <td>-1.716825</td>\n",
       "      <td>-0.718478</td>\n",
       "      <td>-1.092857</td>\n",
       "      <td>0.027377</td>\n",
       "      <td>-1.683558</td>\n",
       "      <td>0.718478</td>\n",
       "      <td>1.477668</td>\n",
       "      <td>-1.618036</td>\n",
       "    </tr>\n",
       "    <tr>\n",
       "      <th>3</th>\n",
       "      <td>-0.883373</td>\n",
       "      <td>1.188185</td>\n",
       "      <td>-0.667710</td>\n",
       "      <td>-0.866311</td>\n",
       "      <td>-1.716825</td>\n",
       "      <td>-0.718478</td>\n",
       "      <td>-0.537599</td>\n",
       "      <td>1.057643</td>\n",
       "      <td>0.108878</td>\n",
       "      <td>0.718478</td>\n",
       "      <td>-0.674024</td>\n",
       "      <td>-1.618036</td>\n",
       "    </tr>\n",
       "    <tr>\n",
       "      <th>4</th>\n",
       "      <td>0.368137</td>\n",
       "      <td>1.188185</td>\n",
       "      <td>-0.578553</td>\n",
       "      <td>1.149684</td>\n",
       "      <td>-1.716825</td>\n",
       "      <td>-0.718478</td>\n",
       "      <td>0.815841</td>\n",
       "      <td>2.431330</td>\n",
       "      <td>-4.596265</td>\n",
       "      <td>-1.386241</td>\n",
       "      <td>-0.674024</td>\n",
       "      <td>-1.605411</td>\n",
       "    </tr>\n",
       "    <tr>\n",
       "      <th>5</th>\n",
       "      <td>2.453986</td>\n",
       "      <td>1.188185</td>\n",
       "      <td>-0.784160</td>\n",
       "      <td>-0.866311</td>\n",
       "      <td>0.569826</td>\n",
       "      <td>1.386241</td>\n",
       "      <td>-0.607006</td>\n",
       "      <td>1.401064</td>\n",
       "      <td>-1.011394</td>\n",
       "      <td>0.718478</td>\n",
       "      <td>1.477668</td>\n",
       "      <td>-1.605411</td>\n",
       "    </tr>\n",
       "  </tbody>\n",
       "</table>\n",
       "</div>"
      ],
      "text/plain": [
       "        age   anaemia  creatinine_phosphokinase  diabetes  ejection_fraction  \\\n",
       "0  1.202477 -0.838240                  0.189290 -0.866311          -1.716825   \n",
       "2  0.368137 -0.838240                 -0.604026 -0.866311          -1.716825   \n",
       "3 -0.883373  1.188185                 -0.667710 -0.866311          -1.716825   \n",
       "4  0.368137  1.188185                 -0.578553  1.149684          -1.716825   \n",
       "5  2.453986  1.188185                 -0.784160 -0.866311           0.569826   \n",
       "\n",
       "   high_blood_pressure  platelets  serum_creatinine  serum_sodium       sex  \\\n",
       "0             1.386241   0.098633          1.057643     -1.459503  0.718478   \n",
       "2            -0.718478  -1.092857          0.027377     -1.683558  0.718478   \n",
       "3            -0.718478  -0.537599          1.057643      0.108878  0.718478   \n",
       "4            -0.718478   0.815841          2.431330     -4.596265 -1.386241   \n",
       "5             1.386241  -0.607006          1.401064     -1.011394  0.718478   \n",
       "\n",
       "    smoking      time  \n",
       "0 -0.674024 -1.655910  \n",
       "2  1.477668 -1.618036  \n",
       "3 -0.674024 -1.618036  \n",
       "4 -0.674024 -1.605411  \n",
       "5  1.477668 -1.605411  "
      ]
     },
     "execution_count": 30,
     "metadata": {},
     "output_type": "execute_result"
    }
   ],
   "source": [
    "df.head()"
   ]
  },
  {
   "cell_type": "code",
   "execution_count": 31,
   "id": "1cb14d31-35a8-4de3-8dfc-1e9736fff808",
   "metadata": {},
   "outputs": [],
   "source": [
    "df[\"cluster_id\"]=kmeans.labels_"
   ]
  },
  {
   "cell_type": "code",
   "execution_count": 32,
   "id": "c5b7ee1f-e017-4175-92aa-b838d18a29c2",
   "metadata": {},
   "outputs": [
    {
     "data": {
      "text/html": [
       "<div>\n",
       "<style scoped>\n",
       "    .dataframe tbody tr th:only-of-type {\n",
       "        vertical-align: middle;\n",
       "    }\n",
       "\n",
       "    .dataframe tbody tr th {\n",
       "        vertical-align: top;\n",
       "    }\n",
       "\n",
       "    .dataframe thead th {\n",
       "        text-align: right;\n",
       "    }\n",
       "</style>\n",
       "<table border=\"1\" class=\"dataframe\">\n",
       "  <thead>\n",
       "    <tr style=\"text-align: right;\">\n",
       "      <th></th>\n",
       "      <th>age</th>\n",
       "      <th>anaemia</th>\n",
       "      <th>creatinine_phosphokinase</th>\n",
       "      <th>diabetes</th>\n",
       "      <th>ejection_fraction</th>\n",
       "      <th>high_blood_pressure</th>\n",
       "      <th>platelets</th>\n",
       "      <th>serum_creatinine</th>\n",
       "      <th>serum_sodium</th>\n",
       "      <th>sex</th>\n",
       "      <th>smoking</th>\n",
       "      <th>time</th>\n",
       "      <th>cluster_id</th>\n",
       "    </tr>\n",
       "  </thead>\n",
       "  <tbody>\n",
       "    <tr>\n",
       "      <th>0</th>\n",
       "      <td>1.202477</td>\n",
       "      <td>-0.838240</td>\n",
       "      <td>0.189290</td>\n",
       "      <td>-0.866311</td>\n",
       "      <td>-1.716825</td>\n",
       "      <td>1.386241</td>\n",
       "      <td>0.098633</td>\n",
       "      <td>1.057643</td>\n",
       "      <td>-1.459503</td>\n",
       "      <td>0.718478</td>\n",
       "      <td>-0.674024</td>\n",
       "      <td>-1.655910</td>\n",
       "      <td>1</td>\n",
       "    </tr>\n",
       "    <tr>\n",
       "      <th>2</th>\n",
       "      <td>0.368137</td>\n",
       "      <td>-0.838240</td>\n",
       "      <td>-0.604026</td>\n",
       "      <td>-0.866311</td>\n",
       "      <td>-1.716825</td>\n",
       "      <td>-0.718478</td>\n",
       "      <td>-1.092857</td>\n",
       "      <td>0.027377</td>\n",
       "      <td>-1.683558</td>\n",
       "      <td>0.718478</td>\n",
       "      <td>1.477668</td>\n",
       "      <td>-1.618036</td>\n",
       "      <td>1</td>\n",
       "    </tr>\n",
       "    <tr>\n",
       "      <th>3</th>\n",
       "      <td>-0.883373</td>\n",
       "      <td>1.188185</td>\n",
       "      <td>-0.667710</td>\n",
       "      <td>-0.866311</td>\n",
       "      <td>-1.716825</td>\n",
       "      <td>-0.718478</td>\n",
       "      <td>-0.537599</td>\n",
       "      <td>1.057643</td>\n",
       "      <td>0.108878</td>\n",
       "      <td>0.718478</td>\n",
       "      <td>-0.674024</td>\n",
       "      <td>-1.618036</td>\n",
       "      <td>1</td>\n",
       "    </tr>\n",
       "    <tr>\n",
       "      <th>4</th>\n",
       "      <td>0.368137</td>\n",
       "      <td>1.188185</td>\n",
       "      <td>-0.578553</td>\n",
       "      <td>1.149684</td>\n",
       "      <td>-1.716825</td>\n",
       "      <td>-0.718478</td>\n",
       "      <td>0.815841</td>\n",
       "      <td>2.431330</td>\n",
       "      <td>-4.596265</td>\n",
       "      <td>-1.386241</td>\n",
       "      <td>-0.674024</td>\n",
       "      <td>-1.605411</td>\n",
       "      <td>1</td>\n",
       "    </tr>\n",
       "    <tr>\n",
       "      <th>5</th>\n",
       "      <td>2.453986</td>\n",
       "      <td>1.188185</td>\n",
       "      <td>-0.784160</td>\n",
       "      <td>-0.866311</td>\n",
       "      <td>0.569826</td>\n",
       "      <td>1.386241</td>\n",
       "      <td>-0.607006</td>\n",
       "      <td>1.401064</td>\n",
       "      <td>-1.011394</td>\n",
       "      <td>0.718478</td>\n",
       "      <td>1.477668</td>\n",
       "      <td>-1.605411</td>\n",
       "      <td>1</td>\n",
       "    </tr>\n",
       "  </tbody>\n",
       "</table>\n",
       "</div>"
      ],
      "text/plain": [
       "        age   anaemia  creatinine_phosphokinase  diabetes  ejection_fraction  \\\n",
       "0  1.202477 -0.838240                  0.189290 -0.866311          -1.716825   \n",
       "2  0.368137 -0.838240                 -0.604026 -0.866311          -1.716825   \n",
       "3 -0.883373  1.188185                 -0.667710 -0.866311          -1.716825   \n",
       "4  0.368137  1.188185                 -0.578553  1.149684          -1.716825   \n",
       "5  2.453986  1.188185                 -0.784160 -0.866311           0.569826   \n",
       "\n",
       "   high_blood_pressure  platelets  serum_creatinine  serum_sodium       sex  \\\n",
       "0             1.386241   0.098633          1.057643     -1.459503  0.718478   \n",
       "2            -0.718478  -1.092857          0.027377     -1.683558  0.718478   \n",
       "3            -0.718478  -0.537599          1.057643      0.108878  0.718478   \n",
       "4            -0.718478   0.815841          2.431330     -4.596265 -1.386241   \n",
       "5             1.386241  -0.607006          1.401064     -1.011394  0.718478   \n",
       "\n",
       "    smoking      time  cluster_id  \n",
       "0 -0.674024 -1.655910           1  \n",
       "2  1.477668 -1.618036           1  \n",
       "3 -0.674024 -1.618036           1  \n",
       "4 -0.674024 -1.605411           1  \n",
       "5  1.477668 -1.605411           1  "
      ]
     },
     "execution_count": 32,
     "metadata": {},
     "output_type": "execute_result"
    }
   ],
   "source": [
    "df.head()"
   ]
  },
  {
   "cell_type": "code",
   "execution_count": 33,
   "id": "138694b7-3770-40aa-ac09-30a9280ff708",
   "metadata": {},
   "outputs": [],
   "source": [
    "df.to_csv(\"cluster_output.csv\", index=False)"
   ]
  },
  {
   "cell_type": "code",
   "execution_count": 34,
   "id": "48b70032-d71c-421d-b219-defbabedc149",
   "metadata": {},
   "outputs": [
    {
     "data": {
      "text/html": [
       "<div>\n",
       "<style scoped>\n",
       "    .dataframe tbody tr th:only-of-type {\n",
       "        vertical-align: middle;\n",
       "    }\n",
       "\n",
       "    .dataframe tbody tr th {\n",
       "        vertical-align: top;\n",
       "    }\n",
       "\n",
       "    .dataframe thead th {\n",
       "        text-align: right;\n",
       "    }\n",
       "</style>\n",
       "<table border=\"1\" class=\"dataframe\">\n",
       "  <thead>\n",
       "    <tr style=\"text-align: right;\">\n",
       "      <th></th>\n",
       "      <th>age</th>\n",
       "      <th>anaemia</th>\n",
       "      <th>creatinine_phosphokinase</th>\n",
       "      <th>diabetes</th>\n",
       "      <th>ejection_fraction</th>\n",
       "      <th>high_blood_pressure</th>\n",
       "      <th>platelets</th>\n",
       "      <th>serum_creatinine</th>\n",
       "      <th>serum_sodium</th>\n",
       "      <th>sex</th>\n",
       "      <th>smoking</th>\n",
       "      <th>time</th>\n",
       "      <th>cluster_id</th>\n",
       "    </tr>\n",
       "  </thead>\n",
       "  <tbody>\n",
       "    <tr>\n",
       "      <th>0</th>\n",
       "      <td>1.202477</td>\n",
       "      <td>-0.838240</td>\n",
       "      <td>0.189290</td>\n",
       "      <td>-0.866311</td>\n",
       "      <td>-1.716825</td>\n",
       "      <td>1.386241</td>\n",
       "      <td>0.098633</td>\n",
       "      <td>1.057643</td>\n",
       "      <td>-1.459503</td>\n",
       "      <td>0.718478</td>\n",
       "      <td>-0.674024</td>\n",
       "      <td>-1.655910</td>\n",
       "      <td>1</td>\n",
       "    </tr>\n",
       "    <tr>\n",
       "      <th>2</th>\n",
       "      <td>0.368137</td>\n",
       "      <td>-0.838240</td>\n",
       "      <td>-0.604026</td>\n",
       "      <td>-0.866311</td>\n",
       "      <td>-1.716825</td>\n",
       "      <td>-0.718478</td>\n",
       "      <td>-1.092857</td>\n",
       "      <td>0.027377</td>\n",
       "      <td>-1.683558</td>\n",
       "      <td>0.718478</td>\n",
       "      <td>1.477668</td>\n",
       "      <td>-1.618036</td>\n",
       "      <td>1</td>\n",
       "    </tr>\n",
       "    <tr>\n",
       "      <th>3</th>\n",
       "      <td>-0.883373</td>\n",
       "      <td>1.188185</td>\n",
       "      <td>-0.667710</td>\n",
       "      <td>-0.866311</td>\n",
       "      <td>-1.716825</td>\n",
       "      <td>-0.718478</td>\n",
       "      <td>-0.537599</td>\n",
       "      <td>1.057643</td>\n",
       "      <td>0.108878</td>\n",
       "      <td>0.718478</td>\n",
       "      <td>-0.674024</td>\n",
       "      <td>-1.618036</td>\n",
       "      <td>1</td>\n",
       "    </tr>\n",
       "    <tr>\n",
       "      <th>4</th>\n",
       "      <td>0.368137</td>\n",
       "      <td>1.188185</td>\n",
       "      <td>-0.578553</td>\n",
       "      <td>1.149684</td>\n",
       "      <td>-1.716825</td>\n",
       "      <td>-0.718478</td>\n",
       "      <td>0.815841</td>\n",
       "      <td>2.431330</td>\n",
       "      <td>-4.596265</td>\n",
       "      <td>-1.386241</td>\n",
       "      <td>-0.674024</td>\n",
       "      <td>-1.605411</td>\n",
       "      <td>1</td>\n",
       "    </tr>\n",
       "    <tr>\n",
       "      <th>5</th>\n",
       "      <td>2.453986</td>\n",
       "      <td>1.188185</td>\n",
       "      <td>-0.784160</td>\n",
       "      <td>-0.866311</td>\n",
       "      <td>0.569826</td>\n",
       "      <td>1.386241</td>\n",
       "      <td>-0.607006</td>\n",
       "      <td>1.401064</td>\n",
       "      <td>-1.011394</td>\n",
       "      <td>0.718478</td>\n",
       "      <td>1.477668</td>\n",
       "      <td>-1.605411</td>\n",
       "      <td>1</td>\n",
       "    </tr>\n",
       "  </tbody>\n",
       "</table>\n",
       "</div>"
      ],
      "text/plain": [
       "        age   anaemia  creatinine_phosphokinase  diabetes  ejection_fraction  \\\n",
       "0  1.202477 -0.838240                  0.189290 -0.866311          -1.716825   \n",
       "2  0.368137 -0.838240                 -0.604026 -0.866311          -1.716825   \n",
       "3 -0.883373  1.188185                 -0.667710 -0.866311          -1.716825   \n",
       "4  0.368137  1.188185                 -0.578553  1.149684          -1.716825   \n",
       "5  2.453986  1.188185                 -0.784160 -0.866311           0.569826   \n",
       "\n",
       "   high_blood_pressure  platelets  serum_creatinine  serum_sodium       sex  \\\n",
       "0             1.386241   0.098633          1.057643     -1.459503  0.718478   \n",
       "2            -0.718478  -1.092857          0.027377     -1.683558  0.718478   \n",
       "3            -0.718478  -0.537599          1.057643      0.108878  0.718478   \n",
       "4            -0.718478   0.815841          2.431330     -4.596265 -1.386241   \n",
       "5             1.386241  -0.607006          1.401064     -1.011394  0.718478   \n",
       "\n",
       "    smoking      time  cluster_id  \n",
       "0 -0.674024 -1.655910           1  \n",
       "2  1.477668 -1.618036           1  \n",
       "3 -0.674024 -1.618036           1  \n",
       "4 -0.674024 -1.605411           1  \n",
       "5  1.477668 -1.605411           1  "
      ]
     },
     "execution_count": 34,
     "metadata": {},
     "output_type": "execute_result"
    }
   ],
   "source": [
    "df.head()"
   ]
  },
  {
   "cell_type": "markdown",
   "id": "624a8699-9aaf-4ad2-b18b-259ee618388a",
   "metadata": {},
   "source": [
    "- **f) Write your analysis of the results. For example, what are the common symptoms/disorders of all the patients in a cluster.**"
   ]
  },
  {
   "cell_type": "code",
   "execution_count": 35,
   "id": "97e2183a-17f5-4ab4-ae6c-1c7178b3cf25",
   "metadata": {},
   "outputs": [
    {
     "data": {
      "image/png": "[encoded data removed]",
      "text/plain": [
       "<Figure size 1080x576 with 2 Axes>"
      ]
     },
     "metadata": {
      "needs_background": "light"
     },
     "output_type": "display_data"
    }
   ],
   "source": [
    "plt.figure(figsize=(15,8))\n",
    "dataplot = sns.heatmap(df.corr(), cmap=\"YlGnBu\", annot=True)\n",
    "plt.show()"
   ]
  },
  {
   "cell_type": "markdown",
   "id": "61f18797-1ce1-44a5-912e-c06b0104d693",
   "metadata": {},
   "source": [
    "**Conclusion:**\n",
    "\n",
    "**1)As per my observation, if we look at the heatmap there is a very strong positive correalation between all clusters and gender as well as smoking, \n",
    "here I can say that the chances of death event is more in heart patients having more smoking habits.**\n",
    "\n",
    "\n",
    "**2) time has a positive correlation with the cluster_id, so the no longer the patient is under the medical care, the higher the possibility of the his/her death.**\n",
    "\n",
    "**3) serum_sodium has a positive correlation with the cluster_id, so the lower the value of serum_sodium, the higher the possibility of the patient death.**\n",
    "\n",
    "**4) creatinine_phosphokinase has a positive correlation with the cluster_id, so the lower the value of creatinine_phosphokinase, the higher the possibility of the patient death.**\n",
    "\n",
    "**5) smoking and sex has a positive co-linearity, meaning male patient are more likely to smoke, because its a general tendancy among male to smoke, also In the dataset there are more male patients than female patients**\n",
    "\n",
    "**6) Also, serum_sodium and ejection_fraction has a strong positive co-linearity.**"
   ]
  },
  {
   "cell_type": "code",
   "execution_count": null,
   "id": "17cd8084-7c45-40a4-9873-112d7197b6d4",
   "metadata": {
    "jupyter": {
     "source_hidden": true
    },
    "tags": []
   },
   "outputs": [],
   "source": []
  }
 ],
 "metadata": {
  "kernelspec": {
   "display_name": "Python 3 (ipykernel)",
   "language": "python",
   "name": "python3"
  },
  "language_info": {
   "codemirror_mode": {
    "name": "ipython",
    "version": 3
   },
   "file_extension": ".py",
   "mimetype": "text/x-python",
   "name": "python",
   "nbconvert_exporter": "python",
   "pygments_lexer": "ipython3",
   "version": "3.9.7"
  }
 },
 "nbformat": 4,
 "nbformat_minor": 5
}
