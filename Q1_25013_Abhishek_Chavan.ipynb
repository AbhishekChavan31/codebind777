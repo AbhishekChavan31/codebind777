{
 "cells": [
  {
   "cell_type": "markdown",
   "id": "3df7e4e5",
   "metadata": {},
   "source": [
    "### Q1. Write a python program to filter all the floating point numbers which are having prime numbers as the whole number part of a number from a list. \n",
    "- example: Input = [5.20,8.40,6.23,7.89]\n",
    "-          output = [5, 7]"
   ]
  },
  {
   "cell_type": "code",
   "execution_count": 2,
   "id": "cbef5ea4",
   "metadata": {},
   "outputs": [],
   "source": [
    "import numpy as np"
   ]
  },
  {
   "cell_type": "code",
   "execution_count": 88,
   "id": "2f352f2b",
   "metadata": {},
   "outputs": [],
   "source": [
    "n = [5.20,8.40,6.23,7.89]"
   ]
  },
  {
   "cell_type": "code",
   "execution_count": 94,
   "id": "20d01c47",
   "metadata": {},
   "outputs": [],
   "source": [
    "l = []\n",
    "res = 0\n",
    "for i in n:\n",
    "    res = int(i//1)\n",
    "    l.append(res)\n",
    "ln = []\n",
    "def prime(n): \n",
    "    for n in l:\n",
    "        if n == 2 or n == 3 or n == 5 or n == 7:\n",
    "            ln.append(n)\n",
    "        elif n % 2 == 0 or n % 3 == 0 or n % 5 == 0 or n % 7 == 0:\n",
    "            continue\n",
    "        else:\n",
    "            ln.append(n)"
   ]
  },
  {
   "cell_type": "code",
   "execution_count": 95,
   "id": "8227c74b",
   "metadata": {},
   "outputs": [
    {
     "name": "stdout",
     "output_type": "stream",
     "text": [
      "[5, 7]\n"
     ]
    }
   ],
   "source": [
    "prime(n)\n",
    "print(ln)"
   ]
  }
 ],
 "metadata": {
  "kernelspec": {
   "display_name": "Python 3 (ipykernel)",
   "language": "python",
   "name": "python3"
  },
  "language_info": {
   "codemirror_mode": {
    "name": "ipython",
    "version": 3
   },
   "file_extension": ".py",
   "mimetype": "text/x-python",
   "name": "python",
   "nbconvert_exporter": "python",
   "pygments_lexer": "ipython3",
   "version": "3.9.7"
  }
 },
 "nbformat": 4,
 "nbformat_minor": 5
}
